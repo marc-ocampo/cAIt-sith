{
  "nbformat": 4,
  "nbformat_minor": 0,
  "metadata": {
    "colab": {
      "name": "pus-AI.ipynb",
      "provenance": []
    },
    "kernelspec": {
      "name": "python3",
      "display_name": "Python 3"
    }
  },
  "cells": [
    {
      "cell_type": "markdown",
      "metadata": {
        "id": "IHUl3CcHg6ZM",
        "colab_type": "text"
      },
      "source": [
        "# Cat Recognition Model\n",
        "This notebook demonstrates a cat recognition model similar to the project in Coursera's Neural Networks and Deep Learning class.\n",
        "However, since it is not allowed to share the codes written in Python from scratch, this model will be created using Tensorflow.\n",
        "\n",
        "<font color=\"red\">insert a diagram here to show the model</font>"
      ]
    },
    {
      "cell_type": "markdown",
      "metadata": {
        "id": "DA6IUBlRgi9k",
        "colab_type": "text"
      },
      "source": [
        "To start, let's import the libraries needed:"
      ]
    },
    {
      "cell_type": "code",
      "metadata": {
        "id": "UiDCaVUugpEa",
        "colab_type": "code",
        "colab": {}
      },
      "source": [
        "import numpy as np"
      ],
      "execution_count": 4,
      "outputs": []
    },
    {
      "cell_type": "markdown",
      "metadata": {
        "id": "dBe_ldoTh3N_",
        "colab_type": "text"
      },
      "source": [
        "Testing"
      ]
    },
    {
      "cell_type": "code",
      "metadata": {
        "id": "kJsyzYy8h4t-",
        "colab_type": "code",
        "colab": {
          "base_uri": "https://localhost:8080/",
          "height": 50
        },
        "outputId": "d21e036d-9b3f-4294-dd2b-d07dc07bbc73"
      },
      "source": [
        "a = np.random.randn(2,5)\n",
        "print(a)"
      ],
      "execution_count": 5,
      "outputs": [
        {
          "output_type": "stream",
          "text": [
            "[[-0.4843168  -0.47898849 -1.87761775  1.55589235 -1.84032282]\n",
            " [-0.35023186 -0.42040381  0.78028864  0.18915243 -0.64870829]]\n"
          ],
          "name": "stdout"
        }
      ]
    }
  ]
}