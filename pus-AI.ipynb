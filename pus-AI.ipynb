{
 "cells": [
  {
   "cell_type": "markdown",
   "metadata": {
    "colab_type": "text",
    "id": "IHUl3CcHg6ZM"
   },
   "source": [
    "# Cat Recognition Model\n",
    "\n",
    "<img src=\"https://github.com/scrappycoc0/pusAI/blob/master/images/mochi.jpg\" alt=\"drawing\" width=\"600\"/><br>\n",
    "This notebook demonstrates a cat recognition model similar to the project in Coursera's Neural Networks and Deep Learning class.\n",
    "However, since it is not allowed to share the codes written in Python from scratch, this model will be created using Tensorflow.\n",
    "\n",
    "<font color=\"red\">insert a diagram here to show the model</font>"
   ]
  },
  {
   "cell_type": "markdown",
   "metadata": {
    "colab_type": "text",
    "id": "DA6IUBlRgi9k"
   },
   "source": [
    "To start, let's import the libraries needed:"
   ]
  },
  {
   "cell_type": "code",
   "execution_count": 1,
   "metadata": {
    "colab": {},
    "colab_type": "code",
    "id": "UiDCaVUugpEa"
   },
   "outputs": [],
   "source": [
    "import numpy as np\n",
    "import tensorflow as tf"
   ]
  },
  {
   "cell_type": "markdown",
   "metadata": {
    "colab_type": "text",
    "id": "dBe_ldoTh3N_"
   },
   "source": [
    "Testing"
   ]
  },
  {
   "cell_type": "code",
   "execution_count": 2,
   "metadata": {
    "colab": {
     "base_uri": "https://localhost:8080/",
     "height": 50
    },
    "colab_type": "code",
    "id": "kJsyzYy8h4t-",
    "outputId": "d21e036d-9b3f-4294-dd2b-d07dc07bbc73"
   },
   "outputs": [
    {
     "name": "stdout",
     "output_type": "stream",
     "text": [
      "[[ 0.33759919 -0.79716271  0.58966913 -1.66992387 -0.26603181]\n",
      " [ 1.07776359  0.14869001  0.25171178  1.25202422  0.40952997]]\n",
      "tf.Tensor(36, shape=(), dtype=int32)\n"
     ]
    }
   ],
   "source": [
    "a = np.random.randn(2,5)\n",
    "print(a)\n",
    "\n",
    "b = tf.constant(36, name='b')\n",
    "print(b)"
   ]
  }
 ],
 "metadata": {
  "colab": {
   "name": "pus-AI.ipynb",
   "provenance": []
  },
  "kernelspec": {
   "display_name": "Python 3",
   "language": "python",
   "name": "python3"
  },
  "language_info": {
   "codemirror_mode": {
    "name": "ipython",
    "version": 3
   },
   "file_extension": ".py",
   "mimetype": "text/x-python",
   "name": "python",
   "nbconvert_exporter": "python",
   "pygments_lexer": "ipython3",
   "version": "3.8.4rc1"
  }
 },
 "nbformat": 4,
 "nbformat_minor": 1
}
